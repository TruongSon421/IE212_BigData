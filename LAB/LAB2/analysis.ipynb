{
 "cells": [
  {
   "cell_type": "markdown",
   "metadata": {},
   "source": [
    "## Stock Market Analysis"
   ]
  },
  {
   "cell_type": "markdown",
   "metadata": {},
   "source": [
    "Link dataset: https://drive.google.com/file/d/1JfubicFPnON1vCh8fCKphZBZ389jReYU/view?usp=share_link"
   ]
  },
  {
   "cell_type": "markdown",
   "metadata": {},
   "source": [
    "Bài tập 1: Trên sàn chứng khoán NYSE (New York Stock Exchange), liệt kê tất cả các công ty có giá cổ phiếu lúc mở phiên cao hơn lúc kết thúc phiên giao dịch."
   ]
  },
  {
   "cell_type": "markdown",
   "metadata": {},
   "source": [
    "Bài tập 2: Trên sàn chứng khoán NASDAQ, liệt kê những công ty mở bán cổ phiếu trong khoảng thời gian từ tháng 01/2005 đến tháng 02/2005"
   ]
  },
  {
   "cell_type": "markdown",
   "metadata": {},
   "source": [
    "Bài tập 3: Trên sàn chứng khoán NYSE, những công ty nào có giá bán cổ phiếu phiên đóng giao dịch trong tháng 08/2007 giảm so với giá bán ở phiên mở cổ phiếu trong tháng 07/2007?"
   ]
  },
  {
   "cell_type": "markdown",
   "metadata": {},
   "source": [
    "Bài tập 4: Giả sử trong ngày 20/10/2005, bạn mua cổ phiếu ngay thời điểm mở phiên giao dịch và đến ngày 25/10/2005, bạn bán cổ phiếu ngay thời điểm giá cổ phiếu lên cao nhất. Hãy liệt kê tên các công ty mang lại lợi nhuận cho bạn và số tiền lời bạn có được sau khi bán cổ phiếu."
   ]
  }
 ],
 "metadata": {
  "language_info": {
   "name": "python"
  }
 },
 "nbformat": 4,
 "nbformat_minor": 2
}
