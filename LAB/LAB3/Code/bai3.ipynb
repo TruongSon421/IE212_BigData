{
 "cells": [
  {
   "cell_type": "code",
   "execution_count": 1,
   "metadata": {},
   "outputs": [],
   "source": [
    "import findspark\n",
    "findspark.init()"
   ]
  },
  {
   "cell_type": "code",
   "execution_count": 2,
   "metadata": {},
   "outputs": [],
   "source": [
    "import pyspark\n",
    "from pyspark.sql import SparkSession\n",
    "spark = SparkSession.builder.getOrCreate()"
   ]
  },
  {
   "cell_type": "code",
   "execution_count": 3,
   "metadata": {},
   "outputs": [],
   "source": [
    "citys = spark.sparkContext.textFile(\"D:\\School2\\Dataset\\GlobalLandTemperaturesByCity.csv\")"
   ]
  },
  {
   "cell_type": "code",
   "execution_count": 12,
   "metadata": {},
   "outputs": [
    {
     "data": {
      "text/plain": [
       "[('2011', '03', '-5.398', 'Ürümqi'),\n",
       " ('2011', '03', '-5.48', 'Acheng'),\n",
       " ('2011', '03', '-10.587', 'Altay'),\n",
       " ('2011', '03', '-3.736', 'Anda'),\n",
       " ('2011', '03', '-3.2539999999999996', 'Badaojiang'),\n",
       " ('2011', '03', '-2.716', 'Baicheng'),\n",
       " ('2011', '03', '-0.4119999999999999', 'Baiyin'),\n",
       " ('2011', '03', '-6.108', 'Baoshan'),\n",
       " ('2011', '03', '-6.386', 'Beian'),\n",
       " ('2011', '03', '-2.221', 'Changchun'),\n",
       " ('2011', '03', '-5.398', 'Changji'),\n",
       " ('2011', '03', '-2.761', 'Datong'),\n",
       " ('2011', '03', '-2.221', 'Dehui'),\n",
       " ('2011', '03', '-4.456', 'Didao'),\n",
       " ('2011', '03', '-3.9789999999999996', 'Dunhua'),\n",
       " ('2011', '03', '-3.736', 'Fuyu'),\n",
       " ('2011', '03', '-2.221', 'Gongzhuling'),\n",
       " ('2011', '03', '-11.4', 'Hailar'),\n",
       " ('2011', '03', '-6.386', 'Hailun'),\n",
       " ('2011', '03', '-0.1100000000000001', 'Hami'),\n",
       " ('2011', '03', '-3.736', 'Harbin'),\n",
       " ('2011', '03', '-6.108', 'Hegang'),\n",
       " ('2011', '03', '-4.456', 'Hengshan'),\n",
       " ('2011', '03', '-2.209', 'Hohhot'),\n",
       " ('2011', '03', '-3.736', 'Honggang'),\n",
       " ('2011', '03', '-3.2539999999999996', 'Huadian'),\n",
       " ('2011', '03', '-3.736', 'Hulan'),\n",
       " ('2011', '03', '-4.579', 'Hulan Ergi'),\n",
       " ('2011', '03', '-6.108', 'Jiamusi'),\n",
       " ('2011', '03', '-4.523', 'Jiaohe'),\n",
       " ('2011', '03', '-7.274', 'Jiayuguan'),\n",
       " ('2011', '03', '-4.523', 'Jilin'),\n",
       " ('2011', '03', '-7.1850000000000005', 'Jinchang'),\n",
       " ('2011', '03', '-2.761', 'Jining'),\n",
       " ('2011', '03', '-4.523', 'Jishu'),\n",
       " ('2011', '03', '-2.221', 'Jiutai'),\n",
       " ('2011', '03', '-4.456', 'Jixi'),\n",
       " ('2011', '03', '-4.931', 'Karamay'),\n",
       " ('2011', '03', '-8.076', 'Kuytun'),\n",
       " ('2011', '03', '-0.4119999999999999', 'Lanzhou'),\n",
       " ('2011', '03', '-3.3800000000000003', 'Lasa'),\n",
       " ('2011', '03', '-0.4119999999999999', 'Linxia'),\n",
       " ('2011', '03', '-3.736', 'Longfeng'),\n",
       " ('2011', '03', '-4.579', 'Longjiang'),\n",
       " ('2011', '03', '-3.9789999999999996', 'Longjing'),\n",
       " ('2011', '03', '-4.343999999999999', 'Mudanjiang'),\n",
       " ('2011', '03', '-7.042000000000001', 'Nancha'),\n",
       " ('2011', '03', '-7.971', 'Nehe'),\n",
       " ('2011', '03', '-3.736', 'Qianguo'),\n",
       " ('2011', '03', '-4.579', 'Qiqihar'),\n",
       " ('2011', '03', '-4.456', 'Qitaihe'),\n",
       " ('2011', '03', '-4.579', 'Ranghulu'),\n",
       " ('2011', '03', '-8.076', 'Shihezi'),\n",
       " ('2011', '03', '-3.736', 'Shuangcheng'),\n",
       " ('2011', '03', '-6.108', 'Shuangyashan'),\n",
       " ('2011', '03', '-6.386', 'Suihua'),\n",
       " ('2011', '03', '-2.716', 'Taonan'),\n",
       " ('2011', '03', '-7.042000000000001', 'Tieli'),\n",
       " ('2011', '03', '-0.831', 'Tieling'),\n",
       " ('2011', '03', '-0.928', 'Tongliao'),\n",
       " ('2011', '03', '-4.848', 'Wulanhaote'),\n",
       " ('2011', '03', '-7.1850000000000005', 'Wuwei'),\n",
       " ('2011', '03', '-2.841', 'Xining'),\n",
       " ('2011', '03', '-0.25', 'Xuanhua'),\n",
       " ('2011', '03', '-11.4', 'Yakeshi'),\n",
       " ('2011', '03', '-3.9789999999999996', 'Yanji'),\n",
       " ('2011', '03', '-7.042000000000001', 'Yichun'),\n",
       " ('2011', '03', '-2.506', 'Yining'),\n",
       " ('2011', '03', '-4.523', 'Yushu'),\n",
       " ('2011', '03', '-6.5950000000000015', 'Zalantun'),\n",
       " ('2011', '03', '-0.25', 'Zhangjiakou'),\n",
       " ('2011', '03', '-3.736', 'Zhaodong')]"
      ]
     },
     "execution_count": 12,
     "metadata": {},
     "output_type": "execute_result"
    }
   ],
   "source": [
    "# month 03 in 2011, temperature < 0, China\n",
    "citys.filter(lambda line: \"China\" in line) \\\n",
    ".map(lambda line: line.split(\",\")) \\\n",
    ".map(lambda x: (x[0], x[1], x[2], x[3], x[4])) \\\n",
    ".map(lambda x: (x[0].split(\"-\")[0],x[0].split(\"-\")[1],x[1],x[3])) \\\n",
    ".filter(lambda x: x[0] == \"2011\" and x[1] == '03') \\\n",
    ".map(lambda x: (x[0],x[1],x[2],x[3])) \\\n",
    ".filter(lambda x: float(x[2]) < 0.0 ) \\\n",
    ".collect()"
   ]
  },
  {
   "cell_type": "code",
   "execution_count": null,
   "metadata": {},
   "outputs": [
    {
     "data": {
      "text/plain": [
       "[('2011', '04', '-0.17400000000000002', 'Lasa')]"
      ]
     },
     "execution_count": 11,
     "metadata": {},
     "output_type": "execute_result"
    }
   ],
   "source": [
    "# month 04 in 2011, temperature < 0, China\n",
    "citys.filter(lambda line: \"China\" in line) \\\n",
    ".map(lambda line: line.split(\",\")) \\\n",
    ".map(lambda x: (x[0], x[1], x[2], x[3], x[4])) \\\n",
    ".map(lambda x: (x[0].split(\"-\")[0],x[0].split(\"-\")[1],x[1],x[3])) \\\n",
    ".filter(lambda x: x[0] == \"2011\" and x[1] == '04') \\\n",
    ".map(lambda x: (x[0],x[1],x[2],x[3])) \\\n",
    ".filter(lambda x: float(x[2]) < 0.0 ) \\\n",
    ".collect()"
   ]
  }
 ],
 "metadata": {
  "kernelspec": {
   "display_name": "base",
   "language": "python",
   "name": "python3"
  },
  "language_info": {
   "codemirror_mode": {
    "name": "ipython",
    "version": 3
   },
   "file_extension": ".py",
   "mimetype": "text/x-python",
   "name": "python",
   "nbconvert_exporter": "python",
   "pygments_lexer": "ipython3",
   "version": "3.10.9"
  }
 },
 "nbformat": 4,
 "nbformat_minor": 2
}
