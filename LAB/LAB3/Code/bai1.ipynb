{
 "cells": [
  {
   "cell_type": "code",
   "execution_count": 1,
   "metadata": {},
   "outputs": [],
   "source": [
    "import findspark\n",
    "findspark.init()"
   ]
  },
  {
   "cell_type": "code",
   "execution_count": 2,
   "metadata": {},
   "outputs": [],
   "source": [
    "import pyspark\n",
    "from pyspark.sql import SparkSession\n",
    "spark = SparkSession.builder.getOrCreate()"
   ]
  },
  {
   "cell_type": "code",
   "execution_count": 3,
   "metadata": {},
   "outputs": [],
   "source": [
    "state = spark.sparkContext.textFile(\"D:\\School2\\Dataset\\GlobalLandTemperaturesByState.csv\")"
   ]
  },
  {
   "cell_type": "code",
   "execution_count": 4,
   "metadata": {},
   "outputs": [
    {
     "data": {
      "text/plain": [
       "[('United States', 271)]"
      ]
     },
     "execution_count": 4,
     "metadata": {},
     "output_type": "execute_result"
    }
   ],
   "source": [
    "state.filter(lambda line: \"United States\" in line) \\\n",
    ".map(lambda line: line.split(\",\")) \\\n",
    ".map(lambda x: (x[0], x[1], x[2], x[3], x[4])) \\\n",
    ".map(lambda x: (x[0].split(\"-\")[0],x[3], x[4])) \\\n",
    ".map(lambda x: (x[0],x[2],'1')) \\\n",
    ".distinct() \\\n",
    ".map(lambda x: (x[1],x[2])) \\\n",
    ".reduceByKey(lambda x,y: int(x)+int(y)) \\\n",
    ".collect()"
   ]
  },
  {
   "cell_type": "code",
   "execution_count": 5,
   "metadata": {},
   "outputs": [
    {
     "data": {
      "text/plain": [
       "[('01', ('21.505', 'Hawaii')),\n",
       " ('02', ('21.926', 'Hawaii')),\n",
       " ('03', ('21.978', 'Hawaii')),\n",
       " ('04', ('23.127', 'Florida')),\n",
       " ('05', ('24.908', 'Florida')),\n",
       " ('06', ('29.715', 'Texas')),\n",
       " ('07', ('32.2', 'Oklahoma')),\n",
       " ('08', ('31.41', 'Oklahoma')),\n",
       " ('09', ('27.038', 'Florida')),\n",
       " ('10', ('23.65', 'Hawaii')),\n",
       " ('11', ('23.053', 'Hawaii')),\n",
       " ('12', ('21.974', 'Hawaii'))]"
      ]
     },
     "execution_count": 5,
     "metadata": {},
     "output_type": "execute_result"
    }
   ],
   "source": [
    "state.filter(lambda line: \"United States\" in line) \\\n",
    ".map(lambda line: line.split(\",\")) \\\n",
    ".map(lambda x: (x[0], x[1], x[2], x[3], x[4])) \\\n",
    ".map(lambda x: (x[0].split(\"-\")[0],x[0].split(\"-\")[1],x[1],x[3])) \\\n",
    ".filter(lambda x: x[0] == \"2011\") \\\n",
    ".map(lambda x: (x[1],(x[2],x[3]))) \\\n",
    ".reduceByKey(lambda x,y: x if (float(x[0]) > float(y[0])) else y) \\\n",
    ".sortBy(lambda x: x[0]) \\\n",
    ".collect()"
   ]
  }
 ],
 "metadata": {
  "kernelspec": {
   "display_name": "base",
   "language": "python",
   "name": "python3"
  },
  "language_info": {
   "codemirror_mode": {
    "name": "ipython",
    "version": 3
   },
   "file_extension": ".py",
   "mimetype": "text/x-python",
   "name": "python",
   "nbconvert_exporter": "python",
   "pygments_lexer": "ipython3",
   "version": "3.10.9"
  }
 },
 "nbformat": 4,
 "nbformat_minor": 2
}
